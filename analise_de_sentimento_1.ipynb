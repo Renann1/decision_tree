{
  "nbformat": 4,
  "nbformat_minor": 0,
  "metadata": {
    "colab": {
      "name": "analise_de_sentimento_1.ipynb",
      "provenance": [],
      "authorship_tag": "ABX9TyNnFAdseUwun4yvV+sNiMyT"
    },
    "kernelspec": {
      "name": "python3",
      "display_name": "Python 3"
    }
  },
  "cells": [
    {
      "cell_type": "code",
      "metadata": {
        "colab": {
          "base_uri": "https://localhost:8080/"
        },
        "id": "wj0CaFagKHDp",
        "outputId": "49ca0474-aff5-4ea3-b09b-d1b62f4caa72"
      },
      "source": [
        "from textblob.classifiers import NaiveBayesClassifier\n",
        "from textblob import TextBlob\n",
        "\n",
        "import nltk\n",
        "nltk.download('punkt')"
      ],
      "execution_count": 1,
      "outputs": [
        {
          "output_type": "stream",
          "text": [
            "[nltk_data] Downloading package punkt to /root/nltk_data...\n",
            "[nltk_data]   Unzipping tokenizers/punkt.zip.\n"
          ],
          "name": "stdout"
        },
        {
          "output_type": "execute_result",
          "data": {
            "text/plain": [
              "True"
            ]
          },
          "metadata": {
            "tags": []
          },
          "execution_count": 1
        }
      ]
    },
    {
      "cell_type": "code",
      "metadata": {
        "colab": {
          "base_uri": "https://localhost:8080/"
        },
        "id": "FqUFnWzkL_km",
        "outputId": "af17d33c-0430-4f2c-ab70-470ac126925f"
      },
      "source": [
        "train_set = [\n",
        "  ('Eu adoro comer hambúrguer','positivo'),\n",
        "  ('Esse lugar é horrível','negativo'),\n",
        "  ('Sábado fez um sol muito bonito','positivo'),\n",
        "  ('A disciplina de aprendizagem de máquina é difícil', 'negativo'),\n",
        "  ('A festa é péssima','negativo'),\n",
        "  ('Este lugar é maravilhoso','positivo')\n",
        "]\n",
        "\n",
        "test_set = [\n",
        "  ('Não gosto de hambúrguer','negativo'),\n",
        "  ('Este lugar é lindo','positivo'),\n",
        "  ('Comida gostosa','positivo'),\n",
        "  ('Estudar disciplinas de matemática é difícil','negativo'),\n",
        "  ('Hoje o dia está bonito','positivo')\n",
        "]\n",
        "\n",
        "cl = NaiveBayesClassifier(train_set)\n",
        "accuracy = cl.accuracy(test_set)\n",
        "print('Precisão do classificador: {}'.format(accuracy))"
      ],
      "execution_count": 2,
      "outputs": [
        {
          "output_type": "stream",
          "text": [
            "Precisão do classificador: 0.8\n"
          ],
          "name": "stdout"
        }
      ]
    },
    {
      "cell_type": "code",
      "metadata": {
        "colab": {
          "base_uri": "https://localhost:8080/"
        },
        "id": "ngkCyYv2PsGv",
        "outputId": "13808802-c40d-42d0-9e71-c084fc1c3d86"
      },
      "source": [
        "frase = 'Hoje foi um bom dia'\n",
        "blob = TextBlob(frase, classifier=cl)\n",
        "print('A frase [{}] é de caráter: {}'.format(frase, blob.classify()))"
      ],
      "execution_count": 3,
      "outputs": [
        {
          "output_type": "stream",
          "text": [
            "A frase [Hoje foi um bom dia] é de caráter: positivo\n"
          ],
          "name": "stdout"
        }
      ]
    }
  ]
}