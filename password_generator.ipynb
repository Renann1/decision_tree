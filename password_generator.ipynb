{
  "nbformat": 4,
  "nbformat_minor": 0,
  "metadata": {
    "colab": {
      "name": "password_generator",
      "provenance": [],
      "authorship_tag": "ABX9TyN13pWKp71jrSXHUydJ0D/e"
    },
    "kernelspec": {
      "name": "python3",
      "display_name": "Python 3"
    }
  },
  "cells": [
    {
      "cell_type": "code",
      "metadata": {
        "id": "CR6DkQZ97jTW"
      },
      "source": [
        "import random"
      ],
      "execution_count": 1,
      "outputs": []
    },
    {
      "cell_type": "code",
      "metadata": {
        "id": "wOrzN4j27oBL"
      },
      "source": [
        "from string import digits\n",
        "from string import punctuation\n",
        "from string import ascii_letters\n",
        "\n",
        "symbols = ascii_letters + digits + punctuation\n",
        "secure_random = random.SystemRandom()\n",
        "password = \"\".join(secure_random.choice(symbols)\n",
        "for i in range(20))\n",
        "\n",
        "print(password)"
      ],
      "execution_count": null,
      "outputs": []
    }
  ]
}